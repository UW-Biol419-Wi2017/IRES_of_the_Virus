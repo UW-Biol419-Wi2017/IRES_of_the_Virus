{
 "cells": [
  {
   "cell_type": "markdown",
   "metadata": {},
   "source": [
    "# An exploration of internal ribosome entry sites (IRES) in single-stranded RNA (ssRNA) viruses"
   ]
  },
  {
   "cell_type": "markdown",
   "metadata": {},
   "source": [
    "### Sarah Johnson and Nicholas Forino - BIOL 419"
   ]
  },
  {
   "cell_type": "markdown",
   "metadata": {},
   "source": [
    "Our investigations will focus on understanding how IRESs are distributed across virus families, identifying which virus genomes are the most IRES-rich, contain the most \"potent\" IRESs."
   ]
  },
  {
   "cell_type": "code",
   "execution_count": null,
   "metadata": {
    "collapsed": true
   },
   "outputs": [],
   "source": [
    "# preliminaries\n",
    "import numpy as np\n",
    "import pandas as pd\n",
    "import matplotlib.pyplot as plt\n",
    "\n",
    "% matplotlib inline"
   ]
  },
  {
   "cell_type": "code",
   "execution_count": null,
   "metadata": {
    "collapsed": false
   },
   "outputs": [],
   "source": [
    "# loading the data\n",
    "\n",
    "# this is the table that contains IRES activity for the ssRNA coding sequences (CDS) by oligo index\n",
    "data = pd.read_excel('aad4939_Table_S8.xlsx', skip_footer = 277, skiprows = np.arange(1, 378), header = 0)\n",
    "\n",
    "print('Our data has shape:', data.shape)"
   ]
  },
  {
   "cell_type": "code",
   "execution_count": null,
   "metadata": {
    "collapsed": false
   },
   "outputs": [],
   "source": [
    "# here's the first 5 rows of the data table\n",
    "data.head(5)"
   ]
  },
  {
   "cell_type": "code",
   "execution_count": null,
   "metadata": {
    "collapsed": true
   },
   "outputs": [],
   "source": [
    "############ start of sarah's work ##############"
   ]
  },
  {
   "cell_type": "code",
   "execution_count": null,
   "metadata": {
    "collapsed": false
   },
   "outputs": [],
   "source": [
    "viruses = np.unique(data.ix[:, 1])\n",
    "viruses\n"
   ]
  },
  {
   "cell_type": "code",
   "execution_count": null,
   "metadata": {
    "collapsed": false
   },
   "outputs": [],
   "source": [
    "# test with one virus \n",
    "swine = data[data['Accession '].str.contains('NC_018668')]\n",
    "swine = swine.fillna(206.29)\n",
    "plt.plot(swine.loc[:, 'Oligo_start_position'], swine.loc[:, 'eGFP_expression (a.u)'])"
   ]
  },
  {
   "cell_type": "code",
   "execution_count": null,
   "metadata": {
    "collapsed": false
   },
   "outputs": [],
   "source": [
    "for i in viruses:\n",
    "    expression = data[data['Accession '].str.contains(i)]\n",
    "    \n",
    "    plt.plot(expression.loc[:, 'Oligo_start_position'], expression.loc[:, 'eGFP_expression (a.u)'])"
   ]
  },
  {
   "cell_type": "code",
   "execution_count": null,
   "metadata": {
    "collapsed": false
   },
   "outputs": [],
   "source": [
    "swine = data[data['Accession '].str.contains('NC_018668')]\n",
    "swine = swine.fillna(206.29)\n",
    "swine.head(5)"
   ]
  },
  {
   "cell_type": "code",
   "execution_count": null,
   "metadata": {
    "collapsed": false
   },
   "outputs": [],
   "source": [
    "# test with one virus\n",
    "swine = data[data['Accession '].str.contains('NC_018668')]\n",
    "swine = swine.fillna(206.29)\n",
    "swine_position = np.zeros(swine.shape[0])\n",
    "swine.shape[0]\n",
    "swine_array = swine.values\n",
    "for j in np.arange(swine.shape[0]):\n",
    "   swine_position[j] = swine_array[j, 6]/swine_array[-1, 6]\n",
    "swine_position\n",
    "plt.plot(swine_position, swine.loc[:, 'eGFP_expression (a.u)'])\n"
   ]
  },
  {
   "cell_type": "code",
   "execution_count": null,
   "metadata": {
    "collapsed": false
   },
   "outputs": [],
   "source": [
    "# plot expression levels across the total length of the genome\n",
    "viruses = np.unique(data.ix[:, 1])\n",
    "\n",
    "for i in viruses:\n",
    "    expression = data[data['Accession '].str.contains(i)]\n",
    "        \n",
    "    plt.plot(expression.loc[:, 'Oligo_start_position'], expression.loc[:, 'eGFP_expression (a.u)'])\n",
    "    plt.title('GFP expression over absolute genome')\n",
    "    plt.ylabel('GFP expression')\n",
    "    plt.xlabel('gene length in base pairs')"
   ]
  },
  {
   "cell_type": "code",
   "execution_count": null,
   "metadata": {
    "collapsed": false
   },
   "outputs": [],
   "source": [
    "# plot relative expression levels across the length of the genome\n",
    "\n",
    "for i in viruses:\n",
    "    expression = data[data['Accession '].str.contains(i)]\n",
    "    \n",
    "    position = np.zeros(expression.shape[0])\n",
    "    expression_array = expression.values\n",
    "    \n",
    "    for j in np.arange(expression.shape[0]):\n",
    "        position[j] = expression_array[j, 6]/expression_array[-1, 6]\n",
    "        \n",
    "    plt.plot(position, expression.loc[:, 'eGFP_expression (a.u)'])\n",
    "    plt.title('GFP expression over relative genome length')\n",
    "    plt.ylabel('GFP expression')\n",
    "    plt.xlabel('relative gene length (sequence position/total gene length)')\n"
   ]
  },
  {
   "cell_type": "markdown",
   "metadata": {},
   "source": [
    "data_acc_index = pd.read_excel('aad4939_Table_S8.xlsx', skip_footer = 277, \n",
    "                               skiprows = np.arange(1, 378), header = 0, index_col = 1)\n",
    "data_acc_index\n",
    "\n",
    "data_acc_index.ix['NC_001430']"
   ]
  },
  {
   "cell_type": "code",
   "execution_count": null,
   "metadata": {
    "collapsed": false
   },
   "outputs": [],
   "source": [
    "# create an array of the virus class for each accession number\n",
    "\n",
    "virus_class = np.zeros(viruses.size)\n",
    "for index in range(viruses.size): \n",
    "    expression = data[data['Accession '].str.contains(viruses[index])]\n",
    "    if 'Picorna' in expression.iloc[0]['Virus_class']:\n",
    "        virus_class[index] = 1\n",
    "    elif 'Flavi' in expression.iloc[0]['Virus_class']:\n",
    "        virus_class[index] = 2\n",
    "virus_class\n",
    "\n",
    "## 1 = picornavirus, 2 = flavivirus"
   ]
  },
  {
   "cell_type": "code",
   "execution_count": null,
   "metadata": {
    "collapsed": false
   },
   "outputs": [],
   "source": [
    "## find maximum expression for each IRES\n",
    "\n",
    "max_expression = np.zeros(viruses.size)\n",
    "max_expression_location = np.zeros(viruses.size)\n",
    "for index in range(viruses.size):\n",
    "    expression = data[data['Accession '].str.contains(viruses[index])]\n",
    "\n",
    "    max_expression[index] = np.max(expression['eGFP_expression (a.u)'])\n",
    "max_expression"
   ]
  },
  {
   "cell_type": "code",
   "execution_count": null,
   "metadata": {
    "collapsed": false
   },
   "outputs": [],
   "source": [
    "# unsuccesful attempt to find index/relative genome location of max expression\n",
    "\n",
    "max_expression = np.zeros(viruses.size)\n",
    "max_expression_location = np.zeros(viruses.size)\n",
    "for index in range(viruses.size):\n",
    "    expression = data[data['Accession '].str.contains(viruses[index])]\n",
    "      \n",
    "    expression_array = expression.values\n",
    "    for np.max(expression_array[:, 7]) in expression_array[:, 7]:\n",
    "        \n",
    "        max_expression_location[index] = np.max(expression_array[:, 7])\n",
    "max_expression"
   ]
  },
  {
   "cell_type": "code",
   "execution_count": null,
   "metadata": {
    "collapsed": true
   },
   "outputs": [],
   "source": [
    "########### end of sarah's work ##############"
   ]
  },
  {
   "cell_type": "code",
   "execution_count": null,
   "metadata": {
    "collapsed": true
   },
   "outputs": [],
   "source": [
    "###### Nick's Stuff"
   ]
  },
  {
   "cell_type": "code",
   "execution_count": null,
   "metadata": {
    "collapsed": true
   },
   "outputs": [],
   "source": [
    "# function that takes the accession number of a virus\n",
    "# returns the IRES expression values above a set threshold as an array of one dimension: the expression level\n",
    "\n",
    "def ires_max(accession, threshold):\n",
    "    virus_accession = data[data['Accession '].str.contains(accession)]\n",
    "    virus_accession = virus_accession.set_index(np.arange(len(virus_accession)))\n",
    "    max_values = np.array([])\n",
    "    \n",
    "    for i in range(len(virus_accession)):\n",
    "        window_value = virus_accession.ix[i, 7]\n",
    "        \n",
    "        if window_value >= threshold:\n",
    "            max_values = np.append(max_values, window_value)\n",
    "    \n",
    "    return max_values"
   ]
  },
  {
   "cell_type": "code",
   "execution_count": null,
   "metadata": {
    "collapsed": false
   },
   "outputs": [],
   "source": [
    "# IRES threshold of 500 a.u.\n",
    "# How many peaks in the NC_001461 genome?\n",
    "\n",
    "threshold = 500\n",
    "\n",
    "max_values = ires_max('NC_001461', threshold)\n",
    "max_values"
   ]
  },
  {
   "cell_type": "code",
   "execution_count": null,
   "metadata": {
    "collapsed": true
   },
   "outputs": [],
   "source": [
    "# function that returns the number of peaks for a virus above a threshold\n",
    "\n",
    "def num_peaks(accession, threshold):\n",
    "    virus_accession = data[data['Accession '].str.contains(accession)]\n",
    "    virus_accession = virus_accession.set_index(np.arange(len(virus_accession)))\n",
    "    max_values = np.array([])\n",
    "    \n",
    "    for i in range(len(virus_accession)):\n",
    "        window_value = virus_accession.ix[i, 7]\n",
    "        \n",
    "        if window_value >= threshold:\n",
    "            max_values = np.append(max_values, window_value)\n",
    "    \n",
    "    return len(max_values)"
   ]
  },
  {
   "cell_type": "code",
   "execution_count": null,
   "metadata": {
    "collapsed": false
   },
   "outputs": [],
   "source": [
    "# bar graph showing number of peaks above threshold for each virus\n",
    "\n",
    "threshold = 500\n",
    "peaks = ([])\n",
    "# for every virus accession\n",
    "for i in viruses:\n",
    "    \n",
    "    # compute the array of IRES elements above threshold\n",
    "    peaks = np.append(peaks, num_peaks(i, threshold))\n",
    "\n",
    "plt.figure(figsize = (12,5))\n",
    "plt.bar(np.arange(len(viruses)), peaks, alpha = 0.6, color = 'green')\n"
   ]
  },
  {
   "cell_type": "code",
   "execution_count": null,
   "metadata": {
    "collapsed": false
   },
   "outputs": [],
   "source": [
    "# bar graph showing number of peaks above threshold for each virus\n",
    "\n",
    "threshold = 500\n",
    "peaks = ([])\n",
    "# for every virus accession\n",
    "for i in viruses:\n",
    "    \n",
    "    # compute the array of IRES elements above threshold\n",
    "    peaks = np.append(peaks, num_peaks(i, threshold))\n",
    "\n",
    "descending_peaks = sorted(peaks, reverse = True)\n",
    "plt.figure(figsize = (12,5))\n",
    "plt.bar(np.arange(len(viruses)), descending_peaks, alpha = 0.6, color = 'green')\n",
    "plt.title('No. of IRES Elements Above Threshold of 500 a.u. per Virus')\n",
    "plt.xlabel('ssRNA Virus')\n",
    "plt.ylabel('No. IRES elements above threshold (a.u.)')"
   ]
  },
  {
   "cell_type": "code",
   "execution_count": null,
   "metadata": {
    "collapsed": false
   },
   "outputs": [],
   "source": [
    "# histogram showing the number of viruses that contain a certain number of IRES elements above threshold\n",
    "\n",
    "threshold = 500\n",
    "peaks = ([])\n",
    "# for every virus accession\n",
    "for i in viruses:\n",
    "    \n",
    "    # compute the array of IRES elements above threshold\n",
    "    peaks = np.append(peaks, num_peaks(i, threshold))\n",
    "\n",
    "plt.figure(figsize = (12,5))\n",
    "plt.hist(peaks, bins= np.arange(min(peaks), max(peaks) + 2, 1), alpha = 0.7, color = 'red')\n",
    "plt.title('Distribution of IRES elements per ssRNA Virus')\n",
    "plt.xlabel('Number of IRES Elements')\n",
    "plt.ylabel('Number of Viruses')\n",
    "plt.xlim(1,19)\n",
    "plt.ylim(0,20)"
   ]
  },
  {
   "cell_type": "code",
   "execution_count": null,
   "metadata": {
    "collapsed": true
   },
   "outputs": [],
   "source": []
  }
 ],
 "metadata": {
  "anaconda-cloud": {},
  "kernelspec": {
   "display_name": "Python [default]",
   "language": "python",
   "name": "python3"
  },
  "language_info": {
   "codemirror_mode": {
    "name": "ipython",
    "version": 3
   },
   "file_extension": ".py",
   "mimetype": "text/x-python",
   "name": "python",
   "nbconvert_exporter": "python",
   "pygments_lexer": "ipython3",
   "version": "3.5.2"
  }
 },
 "nbformat": 4,
 "nbformat_minor": 1
}
