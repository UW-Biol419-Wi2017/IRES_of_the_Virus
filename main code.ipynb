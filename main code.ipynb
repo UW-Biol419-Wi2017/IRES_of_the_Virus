{
 "cells": [
  {
   "cell_type": "markdown",
   "metadata": {},
   "source": [
    "# An exploration of internal ribosome entry sites (IRES) in single-stranded RNA (ssRNA) viruses"
   ]
  },
  {
   "cell_type": "markdown",
   "metadata": {},
   "source": [
    "### Sarah Johnson and Nicholas Forino - BIOL 419"
   ]
  },
  {
   "cell_type": "markdown",
   "metadata": {},
   "source": [
    "Our investigations will focus on understanding how IRESs are distributed across virus families, identifying which virus genomes are the most IRES-rich, contain the most \"potent\" IRESs."
   ]
  },
  {
   "cell_type": "code",
   "execution_count": 2,
   "metadata": {
    "collapsed": true
   },
   "outputs": [],
   "source": [
    "# preliminaries\n",
    "import numpy as np\n",
    "import pandas as pd\n",
    "import matplotlib.pyplot as plt\n",
    "\n",
    "% matplotlib inline"
   ]
  },
  {
   "cell_type": "code",
   "execution_count": 22,
   "metadata": {
    "collapsed": false
   },
   "outputs": [
    {
     "name": "stdout",
     "output_type": "stream",
     "text": [
      "Our data has shape: (6766, 8)\n"
     ]
    }
   ],
   "source": [
    "# loading the data\n",
    "\n",
    "# this is the table that contains IRES activity for the ssRNA coding sequences (CDS) by oligo index\n",
    "data = pd.read_excel('aad4939_Table_S8.xlsx', index_col = 0)\n",
    "data = pd.DataFrame(data)\n",
    "print('Our data has shape:', data.shape)"
   ]
  },
  {
   "cell_type": "code",
   "execution_count": 24,
   "metadata": {
    "collapsed": false
   },
   "outputs": [
    {
     "data": {
      "text/html": [
       "<div>\n",
       "<table border=\"1\" class=\"dataframe\">\n",
       "  <thead>\n",
       "    <tr style=\"text-align: right;\">\n",
       "      <th></th>\n",
       "      <th>Accession</th>\n",
       "      <th>Virus_name</th>\n",
       "      <th>Virus_class</th>\n",
       "      <th>ORF_start</th>\n",
       "      <th>ORF_end</th>\n",
       "      <th>Oligo_start_position</th>\n",
       "      <th>eGFP_expression (a.u)</th>\n",
       "      <th>Oligo_sequence</th>\n",
       "    </tr>\n",
       "    <tr>\n",
       "      <th>Oligo_Index</th>\n",
       "      <th></th>\n",
       "      <th></th>\n",
       "      <th></th>\n",
       "      <th></th>\n",
       "      <th></th>\n",
       "      <th></th>\n",
       "      <th></th>\n",
       "      <th></th>\n",
       "    </tr>\n",
       "  </thead>\n",
       "  <tbody>\n",
       "    <tr>\n",
       "      <th>12914</th>\n",
       "      <td>AJ133357</td>\n",
       "      <td>Foot-and-mouth_disease_virus_-_type_C_(FMDV-C)</td>\n",
       "      <td>ssRNApositive_strandviruses,noDNAstage;Picorna...</td>\n",
       "      <td>1039</td>\n",
       "      <td>8022</td>\n",
       "      <td>1</td>\n",
       "      <td>7811.00</td>\n",
       "      <td>CTAGGGCGCGCCAGTCCTTTGAAAGGGGGCGCTAGGGTCTCACCCC...</td>\n",
       "    </tr>\n",
       "    <tr>\n",
       "      <th>12915</th>\n",
       "      <td>AJ133357</td>\n",
       "      <td>Foot-and-mouth_disease_virus_-_type_C_(FMDV-C)</td>\n",
       "      <td>ssRNApositive_strandviruses,noDNAstage;Picorna...</td>\n",
       "      <td>1039</td>\n",
       "      <td>8022</td>\n",
       "      <td>175</td>\n",
       "      <td>206.29</td>\n",
       "      <td>CTAGGGCGCGCCAGTCCTGCGCTTCTCGCGTGACCGGTTAGTACTC...</td>\n",
       "    </tr>\n",
       "    <tr>\n",
       "      <th>12916</th>\n",
       "      <td>AJ133357</td>\n",
       "      <td>Foot-and-mouth_disease_virus_-_type_C_(FMDV-C)</td>\n",
       "      <td>ssRNApositive_strandviruses,noDNAstage;Picorna...</td>\n",
       "      <td>1039</td>\n",
       "      <td>8022</td>\n",
       "      <td>349</td>\n",
       "      <td>206.29</td>\n",
       "      <td>CTAGGGCGCGCCAGTCCTACCCGAAACCCGCCTTTCATAAGTTTTA...</td>\n",
       "    </tr>\n",
       "    <tr>\n",
       "      <th>12917</th>\n",
       "      <td>AJ133357</td>\n",
       "      <td>Foot-and-mouth_disease_virus_-_type_C_(FMDV-C)</td>\n",
       "      <td>ssRNApositive_strandviruses,noDNAstage;Picorna...</td>\n",
       "      <td>1039</td>\n",
       "      <td>8022</td>\n",
       "      <td>523</td>\n",
       "      <td>206.29</td>\n",
       "      <td>CTAGGGCGCGCCAGTCCTCGTCTGCGCACGAAACGCGCCGTCGCTT...</td>\n",
       "    </tr>\n",
       "    <tr>\n",
       "      <th>12918</th>\n",
       "      <td>AJ133357</td>\n",
       "      <td>Foot-and-mouth_disease_virus_-_type_C_(FMDV-C)</td>\n",
       "      <td>ssRNApositive_strandviruses,noDNAstage;Picorna...</td>\n",
       "      <td>1039</td>\n",
       "      <td>8022</td>\n",
       "      <td>697</td>\n",
       "      <td>206.29</td>\n",
       "      <td>CTAGGGCGCGCCAGTCCTTAGTAACAGCACTGTTGCTTCGTAGCGG...</td>\n",
       "    </tr>\n",
       "  </tbody>\n",
       "</table>\n",
       "</div>"
      ],
      "text/plain": [
       "            Accession                                       Virus_name  \\\n",
       "Oligo_Index                                                              \n",
       "12914         AJ133357  Foot-and-mouth_disease_virus_-_type_C_(FMDV-C)   \n",
       "12915         AJ133357  Foot-and-mouth_disease_virus_-_type_C_(FMDV-C)   \n",
       "12916         AJ133357  Foot-and-mouth_disease_virus_-_type_C_(FMDV-C)   \n",
       "12917         AJ133357  Foot-and-mouth_disease_virus_-_type_C_(FMDV-C)   \n",
       "12918         AJ133357  Foot-and-mouth_disease_virus_-_type_C_(FMDV-C)   \n",
       "\n",
       "                                                   Virus_class  ORF_start  \\\n",
       "Oligo_Index                                                                 \n",
       "12914        ssRNApositive_strandviruses,noDNAstage;Picorna...       1039   \n",
       "12915        ssRNApositive_strandviruses,noDNAstage;Picorna...       1039   \n",
       "12916        ssRNApositive_strandviruses,noDNAstage;Picorna...       1039   \n",
       "12917        ssRNApositive_strandviruses,noDNAstage;Picorna...       1039   \n",
       "12918        ssRNApositive_strandviruses,noDNAstage;Picorna...       1039   \n",
       "\n",
       "             ORF_end  Oligo_start_position  eGFP_expression (a.u)  \\\n",
       "Oligo_Index                                                         \n",
       "12914           8022                     1                7811.00   \n",
       "12915           8022                   175                 206.29   \n",
       "12916           8022                   349                 206.29   \n",
       "12917           8022                   523                 206.29   \n",
       "12918           8022                   697                 206.29   \n",
       "\n",
       "                                                Oligo_sequence  \n",
       "Oligo_Index                                                     \n",
       "12914        CTAGGGCGCGCCAGTCCTTTGAAAGGGGGCGCTAGGGTCTCACCCC...  \n",
       "12915        CTAGGGCGCGCCAGTCCTGCGCTTCTCGCGTGACCGGTTAGTACTC...  \n",
       "12916        CTAGGGCGCGCCAGTCCTACCCGAAACCCGCCTTTCATAAGTTTTA...  \n",
       "12917        CTAGGGCGCGCCAGTCCTCGTCTGCGCACGAAACGCGCCGTCGCTT...  \n",
       "12918        CTAGGGCGCGCCAGTCCTTAGTAACAGCACTGTTGCTTCGTAGCGG...  "
      ]
     },
     "execution_count": 24,
     "metadata": {},
     "output_type": "execute_result"
    }
   ],
   "source": [
    "# here's the first 5 rows of the data table\n",
    "data.head(5)"
   ]
  },
  {
   "cell_type": "code",
   "execution_count": null,
   "metadata": {
    "collapsed": true
   },
   "outputs": [],
   "source": []
  }
 ],
 "metadata": {
  "anaconda-cloud": {},
  "kernelspec": {
   "display_name": "Python [default]",
   "language": "python",
   "name": "python3"
  },
  "language_info": {
   "codemirror_mode": {
    "name": "ipython",
    "version": 3
   },
   "file_extension": ".py",
   "mimetype": "text/x-python",
   "name": "python",
   "nbconvert_exporter": "python",
   "pygments_lexer": "ipython3",
   "version": "3.5.2"
  }
 },
 "nbformat": 4,
 "nbformat_minor": 1
}
